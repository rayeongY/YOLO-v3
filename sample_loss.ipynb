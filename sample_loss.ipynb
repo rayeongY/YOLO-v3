{
 "cells": [
  {
   "cell_type": "code",
   "execution_count": 7,
   "source": [
    "import os\r\n",
    "import cv2\r\n",
    "import numpy as np\r\n",
    "\r\n",
    "import torch\r\n",
    "from torch.utils.data import DataLoader\r\n",
    "\r\n",
    "from data.ship_dataset import ImgDataset, collate_fn"
   ],
   "outputs": [],
   "metadata": {}
  },
  {
   "cell_type": "code",
   "execution_count": null,
   "source": [
    "def custom_loss(y_pred, y_true):\r\n",
    "    confi_loss = nn.BCELoss()\r\n",
    "    \r\n",
    "    if confi_loss == 1:\r\n",
    "        loss = confi_loss\r\n",
    "    else:\r\n",
    "        bbox_loss = nn.MSELoss()\r\n",
    "        class_loss = nn.BCEWithLogitsLoss()\r\n",
    "\r\n",
    "        loss = bbox_loss(y_pred[:4], y_true[:4]) + confi_loss + class_loss(y_pred[5:], y_true[5:])\r\n",
    "\r\n",
    "    return loss"
   ],
   "outputs": [],
   "metadata": {}
  },
  {
   "cell_type": "code",
   "execution_count": null,
   "source": [
    "from torch import nn\r\n",
    "\r\n",
    "\r\n",
    "class YoloV3Loss(nn.Module):\r\n",
    "    ## __init__() will serve as the constructor of out loss function.\r\n",
    "    def __init__(self):\r\n",
    "        super().__init__()\r\n",
    "        \r\n",
    "        self.mse = nn.MSELoss()\r\n",
    "        ## pos_weight=?\r\n",
    "        self.objBCE = nn.BCEWithLogitsLoss()\r\n",
    "        self.multiBCE = nn.BCEWithLogitsLoss()\r\n",
    "\r\n",
    "\r\n",
    "    ## forward() is where we will perfrom the calculations of the loss function.\r\n",
    "    ## ## we can also define backward() function, which take control of how the gradient is calculated,\r\n",
    "    ## ## but it is recommended to let \"\"PyTorch's autograd\"\"\" calculate the gradients automatically.\r\n",
    "    def forward(self, pred, target, anchors):\r\n",
    "        dtype = pred.dtype\r\n",
    "        device = pred.device\r\n",
    "\r\n",
    "        # pred = pred.reshape(-1, 85)\r\n",
    "\r\n",
    "        ## \r\n",
    "        obj_loss = self.objBCE(pred[:, 4], target[:, 4])\r\n",
    "        class_loss = torch.tensor(0., dtype=dtype, device=device)\r\n",
    "        \r\n",
    "        if self.do_ignore(pred, target):\r\n",
    "            loss = obj_loss\r\n",
    "\r\n",
    "            ## loss * ???\r\n",
    "            return loss\r\n",
    "        else:\r\n",
    "            ## MSE Loss for bbox coordination\r\n",
    "            bbox_x_loss = self.mse(pred[:, 0], target[:, 0])\r\n",
    "            bbox_y_loss = self.mse(pred[:, 1], target[:, 1])\r\n",
    "            bbox_w_loss = self.mse(pred[:, 2], target[:, 2])\r\n",
    "            bbox_h_loss = self.mse(pred[:, 3], target[:, 3])\r\n",
    "            bbox_loss = bbox_x_loss + bbox_y_loss + bbox_w_loss + bbox_h_loss\r\n",
    "\r\n",
    "            ## multi-class BCE Loss for bbox class\r\n",
    "            class_num = pred.shape[1] - 5\r\n",
    "            for i in range(class_num):\r\n",
    "                class_loss += self.multiBCE(pred[:, i], target[:, i])\r\n",
    "            class_loss /= class_num     ## Can I use the mean...?\r\n",
    "            \r\n",
    "            ## Total Loss\r\n",
    "            loss = bbox_loss + obj_loss + class_loss\r\n",
    "\r\n",
    "            ## loss * ???\r\n",
    "            return loss\r\n",
    "\r\n",
    "    \r\n",
    "    def do_ignore(self, pred, target):\r\n",
    "\r\n",
    "        return False\r\n"
   ],
   "outputs": [],
   "metadata": {}
  },
  {
   "cell_type": "code",
   "execution_count": null,
   "source": [
    "dataset_option = {  \"DATASET\": {\r\n",
    "                        \"NAME\": \"ship\",\r\n",
    "                        \"ROOT\": \"../datasets/ship\",\r\n",
    "                        \"CLASSES\": {\r\n",
    "                               \"선박\": 0, \"부표\": 1, \"어망부표\": 2,\r\n",
    "                               \"해상풍력\": 3, \"등대\": 4, \"기타부유물\" : 5\r\n",
    "                        }\r\n",
    "                     }\r\n",
    "                 }\r\n",
    "\r\n",
    "batch_size = 32\r\n",
    "epochs = 1"
   ],
   "outputs": [],
   "metadata": {}
  },
  {
   "cell_type": "code",
   "execution_count": 5,
   "source": [
    "model = Net()\r\n",
    "loss_function = YoloV3Loss()"
   ],
   "outputs": [],
   "metadata": {}
  },
  {
   "cell_type": "code",
   "execution_count": null,
   "source": [
    "valid_dataset = ImgDataset(dataset_option, split=\"valid\")\r\n",
    "valid_loader = DataLoader(valid_dataset, batch_size, collate_fn=collate_fn)"
   ],
   "outputs": [],
   "metadata": {}
  },
  {
   "cell_type": "code",
   "execution_count": null,
   "source": [
    "for epoch in range(epochs):\r\n",
    "    for batch_img, batch_label, batch_img_path in valid_loader:\r\n",
    "        output = model(batch_img)\r\n",
    "\r\n",
    "        loss = ( loss_function(output[0], batch_label, ...)\r\n",
    "               + loss_function(output[1], batch_label, ...)\r\n",
    "               + loss_function(output[2], batch_label, ...) )\r\n",
    "\r\n",
    "        loss.backward()"
   ],
   "outputs": [],
   "metadata": {}
  }
 ],
 "metadata": {
  "orig_nbformat": 4,
  "language_info": {
   "name": "python",
   "version": "3.9.4",
   "mimetype": "text/x-python",
   "codemirror_mode": {
    "name": "ipython",
    "version": 3
   },
   "pygments_lexer": "ipython3",
   "nbconvert_exporter": "python",
   "file_extension": ".py"
  },
  "kernelspec": {
   "name": "python3",
   "display_name": "Python 3.9.4 64-bit ('torch': conda)"
  },
  "interpreter": {
   "hash": "3cbf2cfe2af17255c7550a0a36495165331228ad52d7cf7dc2787e8b35bbde01"
  }
 },
 "nbformat": 4,
 "nbformat_minor": 2
}